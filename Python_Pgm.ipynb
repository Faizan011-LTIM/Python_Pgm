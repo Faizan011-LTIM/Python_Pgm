{
  "nbformat": 4,
  "nbformat_minor": 0,
  "metadata": {
    "colab": {
      "provenance": [],
      "authorship_tag": "ABX9TyMJ3rn+fOklJaNSnb6WQvUb",
      "include_colab_link": true
    },
    "kernelspec": {
      "name": "python3",
      "display_name": "Python 3"
    },
    "language_info": {
      "name": "python"
    }
  },
  "cells": [
    {
      "cell_type": "markdown",
      "metadata": {
        "id": "view-in-github",
        "colab_type": "text"
      },
      "source": [
        "<a href=\"https://colab.research.google.com/github/Faizan011-LTIM/Python_Pgm/blob/main/Python_Pgm.ipynb\" target=\"_parent\"><img src=\"https://colab.research.google.com/assets/colab-badge.svg\" alt=\"Open In Colab\"/></a>"
      ]
    },
    {
      "cell_type": "markdown",
      "source": [
        "## Students Grade in Examination"
      ],
      "metadata": {
        "id": "EZ1CYOsCauEa"
      }
    },
    {
      "cell_type": "code",
      "execution_count": 1,
      "metadata": {
        "colab": {
          "base_uri": "https://localhost:8080/"
        },
        "id": "cB8XvNA5afFA",
        "outputId": "bc2d35a5-8f4b-438f-cd8c-fad44d4487d3"
      },
      "outputs": [
        {
          "output_type": "stream",
          "name": "stdout",
          "text": [
            "Enter Marks Percentage: 85\n",
            "Student Grade is: Distinction\n"
          ]
        }
      ],
      "source": [
        "marks=int(input(\"Enter Marks Percentage: \"))\n",
        "\n",
        "if(marks>=70 and marks<=100):\n",
        "  print(\"Student Grade is: Distinction\")\n",
        "elif(marks>=60 and marks<=69):\n",
        "  print(\"Student Grade is: First Class\")\n",
        "elif(marks>=50 and marks<=59):\n",
        "  print(\"Student Grade is: Second Class\")\n",
        "elif(marks>=40 and marks<=49):\n",
        "  print(\"Student Grade is: Third Class\")\n",
        "elif(marks>=0 and marks<=39):\n",
        "  print(\"Student Grade is: Fail\")\n",
        "else:\n",
        "  print(\"Invalid Marks\")"
      ]
    },
    {
      "cell_type": "markdown",
      "source": [
        "## Area Of Triangle"
      ],
      "metadata": {
        "id": "Iio-5_1Zoj0h"
      }
    },
    {
      "cell_type": "code",
      "source": [
        "base = float(input(\"Enter Base of Triangle: \"))\n",
        "height = float(input(\"Enter Height of Triangle: \"))\n",
        "\n",
        "area = (base*height)/2\n",
        "\n",
        "print(\"Area of Triangle is: \", area)"
      ],
      "metadata": {
        "colab": {
          "base_uri": "https://localhost:8080/"
        },
        "id": "Q3HAaxMToVU_",
        "outputId": "bd418d3c-28a8-4159-fcf0-bf8fdb0f5c4f"
      },
      "execution_count": 4,
      "outputs": [
        {
          "output_type": "stream",
          "name": "stdout",
          "text": [
            "Enter Base of Triangle: 12\n",
            "Enter Height of Triangle: 6\n",
            "Area of Triangle is:  36.0\n"
          ]
        }
      ]
    },
    {
      "cell_type": "markdown",
      "source": [
        "## Sum of number"
      ],
      "metadata": {
        "id": "c3Da050Lpacb"
      }
    },
    {
      "cell_type": "code",
      "source": [],
      "metadata": {
        "id": "TkcC1k4Wpg8L"
      },
      "execution_count": null,
      "outputs": []
    }
  ]
}