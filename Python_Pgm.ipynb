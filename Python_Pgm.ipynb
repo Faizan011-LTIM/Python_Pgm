{
  "nbformat": 4,
  "nbformat_minor": 0,
  "metadata": {
    "colab": {
      "provenance": [],
      "authorship_tag": "ABX9TyNdVSbw+cJ94Q0qqtDCHznB",
      "include_colab_link": true
    },
    "kernelspec": {
      "name": "python3",
      "display_name": "Python 3"
    },
    "language_info": {
      "name": "python"
    }
  },
  "cells": [
    {
      "cell_type": "markdown",
      "metadata": {
        "id": "view-in-github",
        "colab_type": "text"
      },
      "source": [
        "<a href=\"https://colab.research.google.com/github/Faizan011-LTIM/Python_Pgm/blob/main/Python_Pgm.ipynb\" target=\"_parent\"><img src=\"https://colab.research.google.com/assets/colab-badge.svg\" alt=\"Open In Colab\"/></a>"
      ]
    },
    {
      "cell_type": "markdown",
      "source": [
        "## Students Grade in Examination"
      ],
      "metadata": {
        "id": "EZ1CYOsCauEa"
      }
    },
    {
      "cell_type": "code",
      "execution_count": null,
      "metadata": {
        "colab": {
          "base_uri": "https://localhost:8080/"
        },
        "id": "cB8XvNA5afFA",
        "outputId": "bc2d35a5-8f4b-438f-cd8c-fad44d4487d3"
      },
      "outputs": [
        {
          "output_type": "stream",
          "name": "stdout",
          "text": [
            "Enter Marks Percentage: 85\n",
            "Student Grade is: Distinction\n"
          ]
        }
      ],
      "source": [
        "marks=int(input(\"Enter Marks Percentage: \"))\n",
        "\n",
        "if(marks>=70 and marks<=100):\n",
        "  print(\"Student Grade is: Distinction\")\n",
        "elif(marks>=60 and marks<=69):\n",
        "  print(\"Student Grade is: First Class\")\n",
        "elif(marks>=50 and marks<=59):\n",
        "  print(\"Student Grade is: Second Class\")\n",
        "elif(marks>=40 and marks<=49):\n",
        "  print(\"Student Grade is: Third Class\")\n",
        "elif(marks>=0 and marks<=39):\n",
        "  print(\"Student Grade is: Fail\")\n",
        "else:\n",
        "  print(\"Invalid Marks\")"
      ]
    },
    {
      "cell_type": "markdown",
      "source": [
        "## Arithmetical Operations: Addition (+), Subtraction (-), Product (*), Division (/), Remainder (%), Quotient (//)"
      ],
      "metadata": {
        "id": "lHwT03fEkjw0"
      }
    },
    {
      "cell_type": "code",
      "source": [
        "x = float(input(\"Enter the number: \"))\n",
        "y = float(input(\"Enter the number: \"))\n",
        "z = x + y\n",
        "print(f\"Sum {x} + {y} = {z}\")\n",
        "\n",
        "a = x - y\n",
        "print(f\"Subtraction {x} - {y} = {a}\")\n",
        "\n",
        "b = x * y\n",
        "print(f\"Product {x} * {y} = {b}\")"
      ],
      "metadata": {
        "colab": {
          "base_uri": "https://localhost:8080/"
        },
        "id": "gLrfkT-LknLb",
        "outputId": "03547d4a-55f4-405b-b690-95efc1da65e6"
      },
      "execution_count": 5,
      "outputs": [
        {
          "output_type": "stream",
          "name": "stdout",
          "text": [
            "Enter the number: 12\n",
            "Enter the number: 8\n",
            "Sum 12.0 + 8.0 = 20.0\n",
            "Subtraction 12.0 - 8.0 = 4.0\n",
            "Product 12.0 * 8.0 = 96.0\n"
          ]
        }
      ]
    },
    {
      "cell_type": "code",
      "source": [
        "x = float(input(\"Enter the number: \"))\n",
        "y = float(input(\"Enter the number: \"))\n",
        "\n",
        "if y == 0:\n",
        "    print(\"Error: Denominator should not be ZERO\")\n",
        "\n",
        "else:\n",
        "    z = x/y\n",
        "    print(f\"Division: {x} / {y} = {z:.2f}\")             # Used '.2f' to keep 2 digits after decimal\n",
        "\n",
        "    a = x%y\n",
        "    print(f\"Remainder: {x} % {y} = {a}\")\n",
        "\n",
        "    b = x//y\n",
        "    print(f\"Quotient: {x} // {y} = {b}\")"
      ],
      "metadata": {
        "colab": {
          "base_uri": "https://localhost:8080/"
        },
        "id": "xe49d8hNlM5_",
        "outputId": "250cb77b-4b8b-486f-ccb3-6f0cc939a9eb"
      },
      "execution_count": 6,
      "outputs": [
        {
          "output_type": "stream",
          "name": "stdout",
          "text": [
            "Enter the number: 59\n",
            "Enter the number: 4\n",
            "Division: 59.0 / 4.0 = 14.75\n",
            "Remainder: 59.0 % 4.0 = 3.0\n",
            "Quotient: 59.0 // 4.0 = 14.0\n"
          ]
        }
      ]
    },
    {
      "cell_type": "markdown",
      "source": [
        "## Swap two Variables"
      ],
      "metadata": {
        "id": "jzgmlteEltcZ"
      }
    },
    {
      "cell_type": "code",
      "source": [
        "x = input(\"Enter the value of 1st Variable: \")\n",
        "y = input(\"Enter the value of 2nd Variable: \")\n",
        "\n",
        "print(f\"Original Values x = {x}, y = {y}\")\n",
        "x, y = y, x\n",
        "\n",
        "print(f\"Swapped Values x = {x}, y = {y}\")"
      ],
      "metadata": {
        "colab": {
          "base_uri": "https://localhost:8080/"
        },
        "id": "s5c0v3mRlvkB",
        "outputId": "effde0e2-be3b-4d2d-b990-1e3a26bab396"
      },
      "execution_count": 7,
      "outputs": [
        {
          "output_type": "stream",
          "name": "stdout",
          "text": [
            "Enter the value of 1st Variable: a\n",
            "Enter the value of 2nd Variable: b\n",
            "Original Values x = a, y = b\n",
            "Swapped Values x = b, y = a\n"
          ]
        }
      ]
    },
    {
      "cell_type": "markdown",
      "source": [
        "## Area Of Triangle"
      ],
      "metadata": {
        "id": "Iio-5_1Zoj0h"
      }
    },
    {
      "cell_type": "code",
      "source": [
        "base = float(input(\"Enter Base of Triangle: \"))\n",
        "height = float(input(\"Enter Height of Triangle: \"))\n",
        "\n",
        "area = (base*height)/2\n",
        "\n",
        "print(\"Area of Triangle is: \", area)"
      ],
      "metadata": {
        "colab": {
          "base_uri": "https://localhost:8080/"
        },
        "id": "Q3HAaxMToVU_",
        "outputId": "bd418d3c-28a8-4159-fcf0-bf8fdb0f5c4f"
      },
      "execution_count": null,
      "outputs": [
        {
          "output_type": "stream",
          "name": "stdout",
          "text": [
            "Enter Base of Triangle: 12\n",
            "Enter Height of Triangle: 6\n",
            "Area of Triangle is:  36.0\n"
          ]
        }
      ]
    },
    {
      "cell_type": "markdown",
      "source": [
        "## Sum of number"
      ],
      "metadata": {
        "id": "c3Da050Lpacb"
      }
    },
    {
      "cell_type": "code",
      "source": [
        "x,y,z=float(input(\"value of x: \")), float(input(\"value of y: \")), float(input(\"value of z: \"))\n",
        "a = x + y + z\n",
        "print(a)"
      ],
      "metadata": {
        "id": "TkcC1k4Wpg8L",
        "colab": {
          "base_uri": "https://localhost:8080/"
        },
        "outputId": "3e1b49f6-cbeb-4500-fb12-7d6efe3203f9"
      },
      "execution_count": 1,
      "outputs": [
        {
          "output_type": "stream",
          "name": "stdout",
          "text": [
            "value of x: 23\n",
            "value of y: 17\n",
            "value of z: 10\n",
            "50.0\n"
          ]
        }
      ]
    },
    {
      "cell_type": "markdown",
      "source": [
        "## Table of integers"
      ],
      "metadata": {
        "id": "CvQCDhbTom_O"
      }
    },
    {
      "cell_type": "code",
      "source": [
        "a=int(input('Enter the number: '))\n",
        "print('Table of',a,'=',end=' ')\n",
        "for i in range(1,11):\n",
        "  print(a*i,end=' | ')"
      ],
      "metadata": {
        "id": "25OiHmTzooxT",
        "outputId": "6541495e-e4b0-4f42-81fe-dc5420510db7",
        "colab": {
          "base_uri": "https://localhost:8080/"
        }
      },
      "execution_count": 9,
      "outputs": [
        {
          "output_type": "stream",
          "name": "stdout",
          "text": [
            "Enter the number: 9\n",
            "Table of 9 = 9 | 18 | 27 | 36 | 45 | 54 | 63 | 72 | 81 | 90 | "
          ]
        }
      ]
    },
    {
      "cell_type": "markdown",
      "source": [
        "## Mixed Pattern: Diamonds"
      ],
      "metadata": {
        "id": "pbDrySp8mml1"
      }
    },
    {
      "cell_type": "code",
      "source": [
        "n = 9\n",
        "\n",
        "for i in range(0, n + 1):\n",
        "   print(' ' * (n - i), end = ' ')\n",
        "   for j in range(1, i + 1):\n",
        "       print(chr(j + 64), end = ' ')\n",
        "   for j in range(0, (n - i)):\n",
        "       print(' ', end = ' ')\n",
        "   for j in range(i, 0, -1):\n",
        "       print('.', '', end = '')\n",
        "   for j in range(0, (n - i)):\n",
        "       print(' ', end = ' ')\n",
        "   for j in range(1, i + 1):\n",
        "       print(j, end = ' ')\n",
        "   for j in range(0, (n - i)):\n",
        "       print(' ', end = ' ')\n",
        "   for j in range(1, i + 1):\n",
        "       print('.', end = ' ')\n",
        "   for j in range(0, (n - i)):\n",
        "       print(' ', end = ' ')\n",
        "   for j in range(1, i + 1):\n",
        "       print(chr(j + 96), end = ' ')\n",
        "   print()\n",
        "\n",
        "\n",
        "for i in range(n - 1, 0, -1):\n",
        "   print(' ' * (n - i), end = ' ')\n",
        "   for j in range(1, i + 1):\n",
        "       print(chr(j + 64), end = ' ')\n",
        "   for j in range(0, (n - i)):\n",
        "       print(' ', end = ' ')\n",
        "   for j in range(i, 0, -1):\n",
        "       print('.', '', end = '')\n",
        "   for j in range(0, (n - i)):\n",
        "       print(' ', end = ' ')\n",
        "   for j in range(1, i + 1):\n",
        "       print(j, end = ' ')\n",
        "   for j in range(0, (n - i)):\n",
        "       print(' ', end = ' ')\n",
        "   for j in range(1, i + 1):\n",
        "       print('.', end = ' ')\n",
        "   for j in range(0, (n - i)):\n",
        "       print(' ', end = ' ')\n",
        "   for j in range(1, i + 1):\n",
        "       print(chr(j + 96), end = ' ')\n",
        "   print()"
      ],
      "metadata": {
        "colab": {
          "base_uri": "https://localhost:8080/"
        },
        "id": "CnObZuGVmpJZ",
        "outputId": "a8a2b415-ad9f-4757-bf19-f39e42239e81"
      },
      "execution_count": 8,
      "outputs": [
        {
          "output_type": "stream",
          "name": "stdout",
          "text": [
            "                                                                                  \n",
            "         A                 .                 1                 .                 a \n",
            "        A B               . .               1 2               . .               a b \n",
            "       A B C             . . .             1 2 3             . . .             a b c \n",
            "      A B C D           . . . .           1 2 3 4           . . . .           a b c d \n",
            "     A B C D E         . . . . .         1 2 3 4 5         . . . . .         a b c d e \n",
            "    A B C D E F       . . . . . .       1 2 3 4 5 6       . . . . . .       a b c d e f \n",
            "   A B C D E F G     . . . . . . .     1 2 3 4 5 6 7     . . . . . . .     a b c d e f g \n",
            "  A B C D E F G H   . . . . . . . .   1 2 3 4 5 6 7 8   . . . . . . . .   a b c d e f g h \n",
            " A B C D E F G H I . . . . . . . . . 1 2 3 4 5 6 7 8 9 . . . . . . . . . a b c d e f g h i \n",
            "  A B C D E F G H   . . . . . . . .   1 2 3 4 5 6 7 8   . . . . . . . .   a b c d e f g h \n",
            "   A B C D E F G     . . . . . . .     1 2 3 4 5 6 7     . . . . . . .     a b c d e f g \n",
            "    A B C D E F       . . . . . .       1 2 3 4 5 6       . . . . . .       a b c d e f \n",
            "     A B C D E         . . . . .         1 2 3 4 5         . . . . .         a b c d e \n",
            "      A B C D           . . . .           1 2 3 4           . . . .           a b c d \n",
            "       A B C             . . .             1 2 3             . . .             a b c \n",
            "        A B               . .               1 2               . .               a b \n",
            "         A                 .                 1                 .                 a \n"
          ]
        }
      ]
    },
    {
      "cell_type": "markdown",
      "source": [
        "## Display Calendar"
      ],
      "metadata": {
        "id": "4rSrOpTqkCPy"
      }
    },
    {
      "cell_type": "code",
      "source": [
        "import calendar\n",
        "year = int(input(\"Enter year: \"))\n",
        "month = int(input(\"Enter month: \"))\n",
        "cal = calendar.month(year, month)\n",
        "print(cal)"
      ],
      "metadata": {
        "colab": {
          "base_uri": "https://localhost:8080/"
        },
        "id": "Ocl0M_HhkBYt",
        "outputId": "417bfe1d-c1e3-4a85-c6c0-68af9b4877b1"
      },
      "execution_count": 4,
      "outputs": [
        {
          "output_type": "stream",
          "name": "stdout",
          "text": [
            "Enter year: 2025\n",
            "Enter month: 05\n",
            "      May 2025\n",
            "Mo Tu We Th Fr Sa Su\n",
            "          1  2  3  4\n",
            " 5  6  7  8  9 10 11\n",
            "12 13 14 15 16 17 18\n",
            "19 20 21 22 23 24 25\n",
            "26 27 28 29 30 31\n",
            "\n"
          ]
        }
      ]
    }
  ]
}